{
 "cells": [
  {
   "cell_type": "markdown",
   "metadata": {},
   "source": [
    "   <h1>                                   Business Problem </h1>\n",
    "  \n",
    "  \n",
    "  <h3>Domain: Insurance</h3>\n",
    "  \n",
    "  <br>\n",
    "  1. Predict whether the customer will renew the insurance or not.<br> <br>\n",
    "  2. Calculate how much commision should be paid to agent to maximize the revenue.<br>\n",
    "  \n",
    "  \n",
    "  <h2>1. Predicting the Renewal of Insurance <h2>"
   ]
  },
  {
   "cell_type": "code",
   "execution_count": 153,
   "metadata": {},
   "outputs": [],
   "source": [
    "import pandas as pd\n",
    "\n",
    "from sklearn.model_selection import train_test_split\n",
    "\n",
    "from sklearn.preprocessing import OneHotEncoder\n",
    "\n",
    "from hyperopt import hp\n",
    "\n",
    "import numpy as np\n",
    "\n",
    "from sklearn.metrics import mean_squared_error\n",
    "\n",
    "import hyperopt\n",
    "\n",
    "from hyperopt import fmin, tpe, hp, STATUS_OK, Trials\n",
    "\n",
    "import xgboost as xgb\n",
    "\n",
    "from xgboost.sklearn import XGBRegressor\n",
    "\n",
    "from sklearn.metrics import accuracy_score\n",
    "\n",
    "from sklearn import metrics\n",
    "\n",
    "from hyperopt import space_eval\n",
    "\n",
    "from sklearn.metrics import confusion_matrix,classification_report,f1_score,accuracy_score,roc_auc_score\n",
    "\n",
    "from xgboost import XGBClassifier\n",
    "\n",
    "from sklearn.metrics import mean_squared_error\n",
    "\n",
    "from math import exp\n",
    "\n",
    "import scipy.optimize as op\n",
    "\n",
    "import shap\n"
   ]
  },
  {
   "cell_type": "markdown",
   "metadata": {},
   "source": [
    "<h3>1.1 Preprocessing Function </h3>\n",
    "\n",
    "Created function ohe where we have used ONE HOT ENCODER for preprocessing of categorical features"
   ]
  },
  {
   "cell_type": "code",
   "execution_count": 154,
   "metadata": {},
   "outputs": [],
   "source": [
    "def ohe(column_list,X_train):\n",
    "\n",
    "    ohe=OneHotEncoder(handle_unknown='ignore')\n",
    "    \n",
    "    ohe_train=ohe.fit_transform(X_train[column_list])\n",
    "    \n",
    "    cat_cols=pd.DataFrame(ohe_train.toarray(),columns=ohe.get_feature_names())\n",
    "    \n",
    "    return cat_cols,ohe"
   ]
  },
  {
   "cell_type": "markdown",
   "metadata": {},
   "source": [
    "<h3> 1.2 Tuning the Hyperparameters </h3>\n",
    "\n",
    "\n",
    "<h4>1.2.1 Defining Objective Function </h4><br>\n",
    "Created function objective_function to minimize loss for given set of hyperparameters."
   ]
  },
  {
   "cell_type": "code",
   "execution_count": 155,
   "metadata": {},
   "outputs": [],
   "source": [
    "def objective_function(params):\n",
    "    \n",
    "    X=params['X']\n",
    "    y=params['y']\n",
    "    n=params['fold']\n",
    "    \n",
    "    del params['X']\n",
    "    del params['y']\n",
    "    \n",
    "    F1_Score=0\n",
    "    \n",
    "    for i in range(n):\n",
    "    \n",
    "        X_train, X_test,y_train, y_test=train_test_split (X,y, random_state=i*2,stratify=y,test_size=0.1)\n",
    "    \n",
    "        clf=xgb.XGBClassifier(**params)\n",
    "    \n",
    "        evaluation = [( X_train, y_train), ( X_test, y_test)]\n",
    "    \n",
    "        clf.fit(X_train, y_train,\n",
    "            eval_set=evaluation,\n",
    "            early_stopping_rounds=20,verbose=False)\n",
    "\n",
    "        pred = clf.predict(X_test)\n",
    "        #f1=f1_score(pred,y_test,average='macro')\n",
    "        f1=f1_score(pred,y_test)\n",
    "        acc=accuracy_score(pred,y_test)\n",
    "    #    print(f1)\n",
    "        F1_Score += (f1+acc)/2\n",
    "        \n",
    "    print (\"ACCURACY:\", acc)\n",
    "    #change the metric if you like\n",
    "    if F1_Score>1 or F1_Score<0:\n",
    "        \n",
    "        return {'loss': np.inf, 'status': STATUS_OK }\n",
    "    \n",
    "    else:\n",
    "        \n",
    "        return {'loss': -F1_Score/n, 'status': STATUS_OK }\n"
   ]
  },
  {
   "cell_type": "markdown",
   "metadata": {},
   "source": [
    "<h4>1.2.2 Define the Search Space of the Hyperparameters</h4>\n",
    "<br>\n",
    "Created function tune_param for hyperparameter tuning using Bayesian optimisation by implementing hyperopt which gives us the best parameters for our model"
   ]
  },
  {
   "cell_type": "code",
   "execution_count": 156,
   "metadata": {},
   "outputs": [],
   "source": [
    "def tune_params(X_train,y_train):\n",
    "    \n",
    "    space={'max_depth':  hp.choice('max_depth', np.arange(3, 18, dtype=int)),\n",
    "        'gamma': hp.uniform ('gamma', 0,20),\n",
    "        'reg_alpha' : hp.quniform('reg_alpha', 40,180,1),\n",
    "        'reg_lambda' : hp.uniform('reg_lambda', 0,10),\n",
    "        'colsample_bytree' : hp.uniform('colsample_bytree', 0.3,0.9),\n",
    "        'min_child_weight' : hp.quniform('min_child_weight', 0, 10, 1),\n",
    "        'n_estimators': hp.quniform(\"n_estimators\",30,500,10),\n",
    "        'learning_rate':hp.quniform('learning_rate',0.02,0.9,0.01),\n",
    "        'scale_pos_weight':hp.uniform('scale_pos_weight',0.03,5),\n",
    "           'base_score':hp.uniform('base_score',0,1),\n",
    "           'colsample_bylevel':hp.uniform('colsample_bylevel',0.5,1),\n",
    "           'colsample_bynode':hp.uniform('colsample_bynode',0.5,1),\n",
    "        'X':X_train,\n",
    "        'fold':1,\n",
    "        'y':y_train\n",
    "    }\n",
    "\n",
    "\n",
    "\n",
    "\n",
    "    trials = Trials()\n",
    "    best_param = fmin(objective_function,space=space, algo=tpe.suggest,\n",
    "                      max_evals=40, trials=trials)\n",
    "    \n",
    "    \n",
    "    return space_eval(space, best_param)\n"
   ]
  },
  {
   "cell_type": "code",
   "execution_count": null,
   "metadata": {},
   "outputs": [],
   "source": [
    "train = pd.read_excel ('/Users/shrutijain/Desktop/ING/train.xlsx', index_col=0).dropna()\n",
    "\n",
    "X = train.loc[:, train.columns != 'renewal']\n",
    "\n",
    "y=train['renewal'].values\n",
    "\n",
    "ohe_features,encoder=ohe(['sourcing_channel','residence_area_type'],X)\n",
    "\n",
    "X=X.reset_index(drop=True)\n",
    "\n",
    "X=pd.concat([X,ohe_features],axis=1)\n",
    "\n",
    "X=X.drop(['sourcing_channel','residence_area_type'], axis=1)\n",
    "\n",
    "X_train, X_test,y_train, y_test=train_test_split (X,y, random_state=0,stratify=y,test_size=0.1)\n",
    "\n",
    "pd.Series(model.feature_importances_,index=X.columns).sort_values(ascending=False)\n",
    "\n",
    "best_params=tune_params(X_train,y_train)\n"
   ]
  },
  {
   "cell_type": "markdown",
   "metadata": {},
   "source": [
    "<h3>1.3 Interpretation of the Model Using SHAP : Explainable AI </h3>\n",
    "\n",
    "<p> We have used SHAP to find local interpretations of the model, SHAP is acronym for Shapley Additive Explainations that provided local and global interpretation of complex models. We have used summary plots here using 1000 sample from the test set and tried to interpret the model output for these points: <br> \n",
    "    \n",
    " <b>Summmary Plot :</b> <br>\n",
    "SHAP summary plot sorts the features in decreasing order of their importance globally and explains the outlook of the model for each prodeiction point for each of the variable.\n",
    "\n",
    "For example here, you can clearly observe that **higher values 'percentage of premium paid by cash credit' gives lower SHAP**, ie.. pulls the prediction towards the non-renewal label.\n",
    "\n",
    "</p>\n"
   ]
  },
  {
   "cell_type": "code",
   "execution_count": 160,
   "metadata": {},
   "outputs": [
    {
     "data": {
      "image/png": "[encoded data removed]",
      "text/plain": [
       "<Figure size 576x568.8 with 2 Axes>"
      ]
     },
     "metadata": {
      "needs_background": "light"
     },
     "output_type": "display_data"
    }
   ],
   "source": [
    "explainer = shap.TreeExplainer(clf)\n",
    "\n",
    "# calculate shap values. This is what we will plot.\n",
    "shap_values = explainer.shap_values(X_test)\n",
    "\n",
    "shap.summary_plot(shap_values[0:1000], X_test.iloc[0:1000,:])"
   ]
  },
  {
   "cell_type": "markdown",
   "metadata": {},
   "source": [
    "<h4> Interpretations :</h4> <br>\n",
    "\n",
    "We have taken top 10 data points from the test set and tried to predict the renewal and explain the model decision using shap summary plots, following are the observations :\n",
    "\n",
    "1. If percentange of premium paid by credit means is high the probablity of non-renewal is also high.\n",
    "<br>\n",
    "\n",
    "2. If a person has a history of delayed payments, chances of non-renewal also increases. if delay is more than 6-12 month it's almost certain case of non-renewal.\n",
    "<br>\n",
    "\n",
    "3. Younger aged people have higher chances of non-renewal.\n",
    "<br>\n"
   ]
  },
  {
   "cell_type": "markdown",
   "metadata": {},
   "source": [
    "<h2>2. Finding Optimal Agents Commission</h2><br><br>\n",
    "\n",
    "Also, calculated how much money the company should Pay to the agents so that the expected revenue can increase.<br><br>\n",
    "\n",
    "\\begin{equation}\n",
    "Expected Revenue = P(renewal) * premium - incentive \n",
    "\\end{equation}\n",
    "\n",
    "The probablity of renewal increases with incentive given to the agent, given by the equations : <br><br>\n",
    "\n",
    "\\begin{equation}\n",
    "Efforts=10 * (1-e^{-Incentive/400})\n",
    "\\end{equation}\n",
    "\n",
    "\n",
    "\\begin{equation}\n",
    "\\Delta P = 0.2 * (1-e^{-Efforts/5})\n",
    "\\end{equation}\n",
    "\n",
    "\n"
   ]
  },
  {
   "cell_type": "code",
   "execution_count": null,
   "metadata": {
    "scrolled": true
   },
   "outputs": [],
   "source": [
    "def find_prob_using_commision(incentive,p):\n",
    "    \n",
    "    '''finds the increase in the probablity of renewal for a given revenue and probablity '''\n",
    "    \n",
    "    effort=10*(1-exp(-incentive/400))\n",
    "    \n",
    "    del_p=0.2*(1-exp(-effort/5))\n",
    "    \n",
    "    # if the probablity is greater than 1\n",
    "    \n",
    "    if del_p+p>1:\n",
    "        \n",
    "        del_p=1-p\n",
    "    \n",
    "    return del_p\n",
    "\n",
    "\n",
    "def calculate_revenue(p,premium,incentive):\n",
    "    \n",
    "    ''' \n",
    "      calculates the revenue for premium, incentive and probablity \n",
    "      \n",
    "    '''\n",
    "    \n",
    "    return premium*find_prob_using_commision(incentive,p)-incentive\n",
    "\n",
    "\n",
    "data_=pd.read_csv('/Users/shrutijain/Desktop/ING/opt_comm.csv')\n",
    "\n",
    "data_=data_.iloc[:,1:]\n",
    "\n",
    "a=len(data_.index)\n",
    "\n",
    "for ind in data_.index:\n",
    "    b=(ind/a)*100\n",
    "    print(b,\"% done \")\n",
    "    \n",
    "    data_.loc[ind,'agent_commission']=\\\n",
    "    op.fmin(lambda x: -calculate_revenue(data_.loc[ind,'p'],data_.loc[ind,'premium'],x), 0)\n",
    "\n"
   ]
  },
  {
   "cell_type": "markdown",
   "metadata": {},
   "source": [
    "<h2> Final Results </h2>\n",
    "\n",
    "The optimized values of the agent commision as per the Optimization Algorithm and XGBoost probability is given for all the points in the test sample points :"
   ]
  },
  {
   "cell_type": "code",
   "execution_count": 165,
   "metadata": {},
   "outputs": [
    {
     "data": {
      "text/plain": [
       "0         33.900625\n",
       "1         24.812125\n",
       "2          0.000000\n",
       "3          0.000000\n",
       "4         97.028125\n",
       "            ...    \n",
       "15366     62.119750\n",
       "15367    203.833125\n",
       "15368    170.210125\n",
       "15369      0.000000\n",
       "15370     21.647500\n",
       "Name: agent_commission, Length: 15371, dtype: float64"
      ]
     },
     "execution_count": 165,
     "metadata": {},
     "output_type": "execute_result"
    }
   ],
   "source": [
    "data_.agent_commission"
   ]
  },
  {
   "cell_type": "code",
   "execution_count": null,
   "metadata": {},
   "outputs": [],
   "source": []
  }
 ],
 "metadata": {
  "kernelspec": {
   "display_name": "Python 3",
   "language": "python",
   "name": "python3"
  },
  "language_info": {
   "codemirror_mode": {
    "name": "ipython",
    "version": 3
   },
   "file_extension": ".py",
   "mimetype": "text/x-python",
   "name": "python",
   "nbconvert_exporter": "python",
   "pygments_lexer": "ipython3",
   "version": "3.7.6"
  }
 },
 "nbformat": 4,
 "nbformat_minor": 4
}
